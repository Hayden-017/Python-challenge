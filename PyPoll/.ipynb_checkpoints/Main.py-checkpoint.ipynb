{
 "cells": [
  {
   "cell_type": "code",
   "execution_count": 1,
   "id": "0e8c09af",
   "metadata": {},
   "outputs": [],
   "source": [
    "import csv\n",
    "\n",
    "csv_path = \"Resources/election_data.csv\"\n",
    "output_path = \"analysis/election_results.txt\""
   ]
  },
  {
   "cell_type": "code",
   "execution_count": 2,
   "id": "47e0dbb4",
   "metadata": {},
   "outputs": [],
   "source": [
    "total_votes = 0\n",
    "candidate_votes = {}\n",
    "winner = {\"name\": \"\", \"votes\": 0}"
   ]
  },
  {
   "cell_type": "code",
   "execution_count": 3,
   "id": "deda7a8f",
   "metadata": {},
   "outputs": [],
   "source": [
    "with open(csv_path, newline=\"\") as csvfile:\n",
    "    csvreader = csv.reader(csvfile, delimiter=\",\")\n",
    "    next(csvreader)\n",
    "    \n",
    "    for row in csvreader:\n",
    "        candidate_name = row[2]\n",
    "        \n",
    "        if candidate_name in candidate_votes:\n",
    "            candidate_votes[candidate_name] += 1\n",
    "        else:\n",
    "            candidate_votes[candidate_name] = 1\n",
    "        \n",
    "        total_votes += 1"
   ]
  },
  {
   "cell_type": "code",
   "execution_count": 4,
   "id": "9009e927",
   "metadata": {},
   "outputs": [],
   "source": [
    "for candidate, votes in candidate_votes.items():\n",
    "    percentage = (votes / total_votes) * 100\n",
    "    candidate_votes[candidate] = {\"votes\": votes, \"percentage\": round(percentage, 3)}\n",
    "    \n",
    "    if votes > winner[\"votes\"]:\n",
    "        winner[\"name\"] = candidate\n",
    "        winner[\"votes\"] = votes"
   ]
  },
  {
   "cell_type": "code",
   "execution_count": 5,
   "id": "1ae938c1",
   "metadata": {},
   "outputs": [
    {
     "name": "stdout",
     "output_type": "stream",
     "text": [
      "Election Results\n",
      "-------------------------\n",
      "Total Votes: 369711\n",
      "-------------------------\n",
      "Charles Casper Stockham: 23.049% (85213)\n",
      "Diana DeGette: 73.812% (272892)\n",
      "Raymon Anthony Doane: 3.139% (11606)\n",
      "-------------------------\n",
      "Winner: Diana DeGette\n",
      "-------------------------\n"
     ]
    }
   ],
   "source": [
    "print(\"Election Results\")\n",
    "print(\"-------------------------\")\n",
    "print(f\"Total Votes: {total_votes}\")\n",
    "print(\"-------------------------\")\n",
    "for candidate, data in candidate_votes.items():\n",
    "    print(f\"{candidate}: {data['percentage']}% ({data['votes']})\")\n",
    "print(\"-------------------------\")\n",
    "print(f\"Winner: {winner['name']}\")\n",
    "print(\"-------------------------\")"
   ]
  },
  {
   "cell_type": "code",
   "execution_count": 6,
   "id": "00c57e35",
   "metadata": {},
   "outputs": [],
   "source": [
    "with open(output_path, \"w\") as textfile:\n",
    "    textfile.write(\"Election Results\\n\")\n",
    "    textfile.write(\"-------------------------\\n\")\n",
    "    textfile.write(f\"Total Votes: {total_votes}\\n\")\n",
    "    textfile.write(\"-------------------------\\n\")\n",
    "    for candidate, data in candidate_votes.items():\n",
    "        textfile.write(f\"{candidate}: {data['percentage']}% ({data['votes']})\\n\")\n",
    "    textfile.write(\"-------------------------\\n\")\n",
    "    textfile.write(f\"Winner: {winner['name']}\\n\")\n",
    "    textfile.write(\"-------------------------\\n\")"
   ]
  }
 ],
 "metadata": {
  "kernelspec": {
   "display_name": "Python 3 (ipykernel)",
   "language": "python",
   "name": "python3"
  },
  "language_info": {
   "codemirror_mode": {
    "name": "ipython",
    "version": 3
   },
   "file_extension": ".py",
   "mimetype": "text/x-python",
   "name": "python",
   "nbconvert_exporter": "python",
   "pygments_lexer": "ipython3",
   "version": "3.10.9"
  }
 },
 "nbformat": 4,
 "nbformat_minor": 5
}
