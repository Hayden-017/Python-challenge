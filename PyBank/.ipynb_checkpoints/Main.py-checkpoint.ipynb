{
 "cells": [
  {
   "cell_type": "code",
   "execution_count": 4,
   "id": "c4db2ec1",
   "metadata": {},
   "outputs": [],
   "source": [
    "import csv\n",
    "\n",
    "csv_path = \"Resources/budget_data.csv\"\n",
    "output_path = \"analysis/financial_analysis.txt\""
   ]
  },
  {
   "cell_type": "code",
   "execution_count": 5,
   "id": "57ded3c5",
   "metadata": {},
   "outputs": [],
   "source": [
    "total_months = 0\n",
    "net_profit_loss = 0\n",
    "previous_profit_loss = 0\n",
    "profit_loss_changes = []\n",
    "greatest_increase = {\"date\": \"\", \"amount\": 0}\n",
    "greatest_decrease = {\"date\": \"\", \"amount\": 0}"
   ]
  },
  {
   "cell_type": "code",
   "execution_count": 6,
   "id": "f62d74f6",
   "metadata": {},
   "outputs": [],
   "source": [
    "with open(csv_path, newline=\"\") as csvfile:\n",
    "    csvreader = csv.reader(csvfile, delimiter=\",\")\n",
    "    next(csvreader)\n",
    "    \n",
    "    for row in csvreader:\n",
    "        date = row[0]\n",
    "        profit_loss = int(row[1])\n",
    "        \n",
    "        net_profit_loss += profit_loss\n",
    "        \n",
    "        if total_months > 0:\n",
    "            change = profit_loss - previous_profit_loss\n",
    "            profit_loss_changes.append(change)\n",
    "            \n",
    "            if change > greatest_increase[\"amount\"]:\n",
    "                greatest_increase[\"date\"] = date\n",
    "                greatest_increase[\"amount\"] = change\n",
    "            if change < greatest_decrease[\"amount\"]:\n",
    "                greatest_decrease[\"date\"] = date\n",
    "                greatest_decrease[\"amount\"] = change\n",
    "        \n",
    "        total_months += 1\n",
    "        previous_profit_loss = profit_loss"
   ]
  },
  {
   "cell_type": "code",
   "execution_count": 7,
   "id": "8783d88f",
   "metadata": {},
   "outputs": [],
   "source": [
    "average_change = sum(profit_loss_changes) / len(profit_loss_changes)\n",
    "average_change = round(average_change, 2)"
   ]
  },
  {
   "cell_type": "code",
   "execution_count": 8,
   "id": "9b72197e",
   "metadata": {},
   "outputs": [
    {
     "name": "stdout",
     "output_type": "stream",
     "text": [
      "Financial Analysis\n",
      "----------------------------\n",
      "Total Months: 86\n",
      "Total: $22564198\n",
      "Average Change: $-8311.11\n",
      "Greatest Increase in Profits: Aug-16 ($1862002)\n",
      "Greatest Decrease in Profits: Feb-14 ($-1825558)\n"
     ]
    }
   ],
   "source": [
    "print(\"Financial Analysis\")\n",
    "print(\"----------------------------\")\n",
    "print(f\"Total Months: {total_months}\")\n",
    "print(f\"Total: ${net_profit_loss}\")\n",
    "print(f\"Average Change: ${average_change}\")\n",
    "print(f\"Greatest Increase in Profits: {greatest_increase['date']} (${greatest_increase['amount']})\")\n",
    "print(f\"Greatest Decrease in Profits: {greatest_decrease['date']} (${greatest_decrease['amount']})\")"
   ]
  },
  {
   "cell_type": "code",
   "execution_count": 9,
   "id": "a7e5badd",
   "metadata": {},
   "outputs": [],
   "source": [
    "with open(output_path, \"w\") as textfile:\n",
    "    textfile.write(\"Financial Analysis\\n\")\n",
    "    textfile.write(\"----------------------------\\n\")\n",
    "    textfile.write(f\"Total Months: {total_months}\\n\")\n",
    "    textfile.write(f\"Total: ${net_profit_loss}\\n\")\n",
    "    textfile.write(f\"Average Change: ${average_change}\\n\")\n",
    "    textfile.write(f\"Greatest Increase in Profits: {greatest_increase['date']} (${greatest_increase['amount']})\\n\")\n",
    "    textfile.write(f\"Greatest Decrease in Profits: {greatest_decrease['date']} (${greatest_decrease['amount']})\\n\")"
   ]
  }
 ],
 "metadata": {
  "kernelspec": {
   "display_name": "Python 3 (ipykernel)",
   "language": "python",
   "name": "python3"
  },
  "language_info": {
   "codemirror_mode": {
    "name": "ipython",
    "version": 3
   },
   "file_extension": ".py",
   "mimetype": "text/x-python",
   "name": "python",
   "nbconvert_exporter": "python",
   "pygments_lexer": "ipython3",
   "version": "3.10.9"
  }
 },
 "nbformat": 4,
 "nbformat_minor": 5
}
